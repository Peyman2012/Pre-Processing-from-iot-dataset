{
 "cells": [
  {
   "cell_type": "code",
   "execution_count": 1,
   "id": "a66ebe46",
   "metadata": {},
   "outputs": [],
   "source": [
    "import numpy as np\n",
    "import pandas as pd\n",
    "import matplotlib.pyplot as plt"
   ]
  },
  {
   "cell_type": "code",
   "execution_count": 48,
   "id": "56c90891",
   "metadata": {},
   "outputs": [],
   "source": [
    "data=pd.read_csv('IOT-temp.csv')"
   ]
  },
  {
   "cell_type": "code",
   "execution_count": 49,
   "id": "386a5047",
   "metadata": {},
   "outputs": [
    {
     "data": {
      "text/plain": [
       "Index(['id', 'room_id/id', 'noted_date', 'temp', 'out/in'], dtype='object')"
      ]
     },
     "execution_count": 49,
     "metadata": {},
     "output_type": "execute_result"
    }
   ],
   "source": [
    "data.columns"
   ]
  },
  {
   "cell_type": "code",
   "execution_count": 50,
   "id": "c9b7133f",
   "metadata": {},
   "outputs": [
    {
     "data": {
      "text/html": [
       "<div>\n",
       "<style scoped>\n",
       "    .dataframe tbody tr th:only-of-type {\n",
       "        vertical-align: middle;\n",
       "    }\n",
       "\n",
       "    .dataframe tbody tr th {\n",
       "        vertical-align: top;\n",
       "    }\n",
       "\n",
       "    .dataframe thead th {\n",
       "        text-align: right;\n",
       "    }\n",
       "</style>\n",
       "<table border=\"1\" class=\"dataframe\">\n",
       "  <thead>\n",
       "    <tr style=\"text-align: right;\">\n",
       "      <th></th>\n",
       "      <th>room_id/id</th>\n",
       "      <th>noted_date</th>\n",
       "      <th>temp</th>\n",
       "      <th>out/in</th>\n",
       "    </tr>\n",
       "  </thead>\n",
       "  <tbody>\n",
       "    <tr>\n",
       "      <th>0</th>\n",
       "      <td>Room Admin</td>\n",
       "      <td>08-12-2018 09:30</td>\n",
       "      <td>29</td>\n",
       "      <td>In</td>\n",
       "    </tr>\n",
       "    <tr>\n",
       "      <th>1</th>\n",
       "      <td>Room Admin</td>\n",
       "      <td>08-12-2018 09:30</td>\n",
       "      <td>29</td>\n",
       "      <td>In</td>\n",
       "    </tr>\n",
       "    <tr>\n",
       "      <th>2</th>\n",
       "      <td>Room Admin</td>\n",
       "      <td>08-12-2018 09:29</td>\n",
       "      <td>41</td>\n",
       "      <td>Out</td>\n",
       "    </tr>\n",
       "    <tr>\n",
       "      <th>3</th>\n",
       "      <td>Room Admin</td>\n",
       "      <td>08-12-2018 09:29</td>\n",
       "      <td>41</td>\n",
       "      <td>Out</td>\n",
       "    </tr>\n",
       "    <tr>\n",
       "      <th>4</th>\n",
       "      <td>Room Admin</td>\n",
       "      <td>08-12-2018 09:29</td>\n",
       "      <td>31</td>\n",
       "      <td>In</td>\n",
       "    </tr>\n",
       "    <tr>\n",
       "      <th>...</th>\n",
       "      <td>...</td>\n",
       "      <td>...</td>\n",
       "      <td>...</td>\n",
       "      <td>...</td>\n",
       "    </tr>\n",
       "    <tr>\n",
       "      <th>97601</th>\n",
       "      <td>Room Admin</td>\n",
       "      <td>28-07-2018 07:07</td>\n",
       "      <td>31</td>\n",
       "      <td>In</td>\n",
       "    </tr>\n",
       "    <tr>\n",
       "      <th>97602</th>\n",
       "      <td>Room Admin</td>\n",
       "      <td>28-07-2018 07:07</td>\n",
       "      <td>31</td>\n",
       "      <td>In</td>\n",
       "    </tr>\n",
       "    <tr>\n",
       "      <th>97603</th>\n",
       "      <td>Room Admin</td>\n",
       "      <td>28-07-2018 07:06</td>\n",
       "      <td>31</td>\n",
       "      <td>In</td>\n",
       "    </tr>\n",
       "    <tr>\n",
       "      <th>97604</th>\n",
       "      <td>Room Admin</td>\n",
       "      <td>28-07-2018 07:06</td>\n",
       "      <td>31</td>\n",
       "      <td>In</td>\n",
       "    </tr>\n",
       "    <tr>\n",
       "      <th>97605</th>\n",
       "      <td>Room Admin</td>\n",
       "      <td>28-07-2018 07:06</td>\n",
       "      <td>31</td>\n",
       "      <td>In</td>\n",
       "    </tr>\n",
       "  </tbody>\n",
       "</table>\n",
       "<p>97606 rows × 4 columns</p>\n",
       "</div>"
      ],
      "text/plain": [
       "       room_id/id        noted_date  temp out/in\n",
       "0      Room Admin  08-12-2018 09:30    29     In\n",
       "1      Room Admin  08-12-2018 09:30    29     In\n",
       "2      Room Admin  08-12-2018 09:29    41    Out\n",
       "3      Room Admin  08-12-2018 09:29    41    Out\n",
       "4      Room Admin  08-12-2018 09:29    31     In\n",
       "...           ...               ...   ...    ...\n",
       "97601  Room Admin  28-07-2018 07:07    31     In\n",
       "97602  Room Admin  28-07-2018 07:07    31     In\n",
       "97603  Room Admin  28-07-2018 07:06    31     In\n",
       "97604  Room Admin  28-07-2018 07:06    31     In\n",
       "97605  Room Admin  28-07-2018 07:06    31     In\n",
       "\n",
       "[97606 rows x 4 columns]"
      ]
     },
     "execution_count": 50,
     "metadata": {},
     "output_type": "execute_result"
    }
   ],
   "source": [
    "df=pd.DataFrame(data,columns=['room_id/id', 'noted_date', 'temp', 'out/in'])\n",
    "df"
   ]
  },
  {
   "cell_type": "code",
   "execution_count": 51,
   "id": "15133446",
   "metadata": {},
   "outputs": [],
   "source": [
    "df2=df.copy()"
   ]
  },
  {
   "cell_type": "code",
   "execution_count": 52,
   "id": "4d5be42d",
   "metadata": {},
   "outputs": [],
   "source": [
    "df2['temp']=df2['temp'].astype(str)"
   ]
  },
  {
   "cell_type": "code",
   "execution_count": 53,
   "id": "d305673c",
   "metadata": {},
   "outputs": [
    {
     "data": {
      "text/html": [
       "<div>\n",
       "<style scoped>\n",
       "    .dataframe tbody tr th:only-of-type {\n",
       "        vertical-align: middle;\n",
       "    }\n",
       "\n",
       "    .dataframe tbody tr th {\n",
       "        vertical-align: top;\n",
       "    }\n",
       "\n",
       "    .dataframe thead th {\n",
       "        text-align: right;\n",
       "    }\n",
       "</style>\n",
       "<table border=\"1\" class=\"dataframe\">\n",
       "  <thead>\n",
       "    <tr style=\"text-align: right;\">\n",
       "      <th></th>\n",
       "      <th>room_id/id</th>\n",
       "      <th>noted_date</th>\n",
       "      <th>temp</th>\n",
       "      <th>out/in</th>\n",
       "    </tr>\n",
       "  </thead>\n",
       "  <tbody>\n",
       "    <tr>\n",
       "      <th>count</th>\n",
       "      <td>97606</td>\n",
       "      <td>97606</td>\n",
       "      <td>97606</td>\n",
       "      <td>97606</td>\n",
       "    </tr>\n",
       "    <tr>\n",
       "      <th>unique</th>\n",
       "      <td>1</td>\n",
       "      <td>27920</td>\n",
       "      <td>31</td>\n",
       "      <td>2</td>\n",
       "    </tr>\n",
       "    <tr>\n",
       "      <th>top</th>\n",
       "      <td>Room Admin</td>\n",
       "      <td>12-09-2018 03:09</td>\n",
       "      <td>39</td>\n",
       "      <td>Out</td>\n",
       "    </tr>\n",
       "    <tr>\n",
       "      <th>freq</th>\n",
       "      <td>97606</td>\n",
       "      <td>65</td>\n",
       "      <td>10203</td>\n",
       "      <td>77261</td>\n",
       "    </tr>\n",
       "  </tbody>\n",
       "</table>\n",
       "</div>"
      ],
      "text/plain": [
       "        room_id/id        noted_date   temp out/in\n",
       "count        97606             97606  97606  97606\n",
       "unique           1             27920     31      2\n",
       "top     Room Admin  12-09-2018 03:09     39    Out\n",
       "freq         97606                65  10203  77261"
      ]
     },
     "execution_count": 53,
     "metadata": {},
     "output_type": "execute_result"
    }
   ],
   "source": [
    "df2.describe()"
   ]
  },
  {
   "cell_type": "code",
   "execution_count": 54,
   "id": "9e03207d",
   "metadata": {},
   "outputs": [
    {
     "data": {
      "text/html": [
       "<div>\n",
       "<style scoped>\n",
       "    .dataframe tbody tr th:only-of-type {\n",
       "        vertical-align: middle;\n",
       "    }\n",
       "\n",
       "    .dataframe tbody tr th {\n",
       "        vertical-align: top;\n",
       "    }\n",
       "\n",
       "    .dataframe thead th {\n",
       "        text-align: right;\n",
       "    }\n",
       "</style>\n",
       "<table border=\"1\" class=\"dataframe\">\n",
       "  <thead>\n",
       "    <tr style=\"text-align: right;\">\n",
       "      <th></th>\n",
       "      <th>room_id/id</th>\n",
       "      <th>noted_date</th>\n",
       "      <th>temp</th>\n",
       "      <th>out/in</th>\n",
       "    </tr>\n",
       "  </thead>\n",
       "  <tbody>\n",
       "    <tr>\n",
       "      <th>0</th>\n",
       "      <td>Room Admin</td>\n",
       "      <td>08-12-2018 09:30</td>\n",
       "      <td>29</td>\n",
       "      <td>In</td>\n",
       "    </tr>\n",
       "    <tr>\n",
       "      <th>1</th>\n",
       "      <td>Room Admin</td>\n",
       "      <td>08-12-2018 09:30</td>\n",
       "      <td>29</td>\n",
       "      <td>In</td>\n",
       "    </tr>\n",
       "    <tr>\n",
       "      <th>2</th>\n",
       "      <td>Room Admin</td>\n",
       "      <td>08-12-2018 09:29</td>\n",
       "      <td>41</td>\n",
       "      <td>Out</td>\n",
       "    </tr>\n",
       "    <tr>\n",
       "      <th>3</th>\n",
       "      <td>Room Admin</td>\n",
       "      <td>08-12-2018 09:29</td>\n",
       "      <td>41</td>\n",
       "      <td>Out</td>\n",
       "    </tr>\n",
       "    <tr>\n",
       "      <th>4</th>\n",
       "      <td>Room Admin</td>\n",
       "      <td>08-12-2018 09:29</td>\n",
       "      <td>31</td>\n",
       "      <td>In</td>\n",
       "    </tr>\n",
       "    <tr>\n",
       "      <th>...</th>\n",
       "      <td>...</td>\n",
       "      <td>...</td>\n",
       "      <td>...</td>\n",
       "      <td>...</td>\n",
       "    </tr>\n",
       "    <tr>\n",
       "      <th>97601</th>\n",
       "      <td>Room Admin</td>\n",
       "      <td>28-07-2018 07:07</td>\n",
       "      <td>31</td>\n",
       "      <td>In</td>\n",
       "    </tr>\n",
       "    <tr>\n",
       "      <th>97602</th>\n",
       "      <td>Room Admin</td>\n",
       "      <td>28-07-2018 07:07</td>\n",
       "      <td>31</td>\n",
       "      <td>In</td>\n",
       "    </tr>\n",
       "    <tr>\n",
       "      <th>97603</th>\n",
       "      <td>Room Admin</td>\n",
       "      <td>28-07-2018 07:06</td>\n",
       "      <td>31</td>\n",
       "      <td>In</td>\n",
       "    </tr>\n",
       "    <tr>\n",
       "      <th>97604</th>\n",
       "      <td>Room Admin</td>\n",
       "      <td>28-07-2018 07:06</td>\n",
       "      <td>31</td>\n",
       "      <td>In</td>\n",
       "    </tr>\n",
       "    <tr>\n",
       "      <th>97605</th>\n",
       "      <td>Room Admin</td>\n",
       "      <td>28-07-2018 07:06</td>\n",
       "      <td>31</td>\n",
       "      <td>In</td>\n",
       "    </tr>\n",
       "  </tbody>\n",
       "</table>\n",
       "<p>97606 rows × 4 columns</p>\n",
       "</div>"
      ],
      "text/plain": [
       "       room_id/id        noted_date temp out/in\n",
       "0      Room Admin  08-12-2018 09:30   29     In\n",
       "1      Room Admin  08-12-2018 09:30   29     In\n",
       "2      Room Admin  08-12-2018 09:29   41    Out\n",
       "3      Room Admin  08-12-2018 09:29   41    Out\n",
       "4      Room Admin  08-12-2018 09:29   31     In\n",
       "...           ...               ...  ...    ...\n",
       "97601  Room Admin  28-07-2018 07:07   31     In\n",
       "97602  Room Admin  28-07-2018 07:07   31     In\n",
       "97603  Room Admin  28-07-2018 07:06   31     In\n",
       "97604  Room Admin  28-07-2018 07:06   31     In\n",
       "97605  Room Admin  28-07-2018 07:06   31     In\n",
       "\n",
       "[97606 rows x 4 columns]"
      ]
     },
     "execution_count": 54,
     "metadata": {},
     "output_type": "execute_result"
    }
   ],
   "source": [
    "df3=df2.dropna()\n",
    "df3"
   ]
  },
  {
   "cell_type": "code",
   "execution_count": 55,
   "id": "b41a7796",
   "metadata": {},
   "outputs": [],
   "source": [
    "df3['temp']=df3['temp'].astype(int)"
   ]
  },
  {
   "cell_type": "code",
   "execution_count": 56,
   "id": "89dad002",
   "metadata": {},
   "outputs": [
    {
     "data": {
      "text/plain": [
       "room_id/id    0\n",
       "noted_date    0\n",
       "temp          0\n",
       "out/in        0\n",
       "dtype: int64"
      ]
     },
     "execution_count": 56,
     "metadata": {},
     "output_type": "execute_result"
    }
   ],
   "source": [
    "#missing value\n",
    "len(df.index)-df3.count() "
   ]
  },
  {
   "cell_type": "code",
   "execution_count": 57,
   "id": "e0c39a75",
   "metadata": {},
   "outputs": [
    {
     "data": {
      "text/plain": [
       "51"
      ]
     },
     "execution_count": 57,
     "metadata": {},
     "output_type": "execute_result"
    }
   ],
   "source": [
    "df3['temp'].max()"
   ]
  },
  {
   "cell_type": "code",
   "execution_count": 58,
   "id": "cd313c85",
   "metadata": {},
   "outputs": [
    {
     "data": {
      "text/plain": [
       "21"
      ]
     },
     "execution_count": 58,
     "metadata": {},
     "output_type": "execute_result"
    }
   ],
   "source": [
    "df3['temp'].min()"
   ]
  },
  {
   "cell_type": "code",
   "execution_count": 59,
   "id": "91b40e89",
   "metadata": {},
   "outputs": [
    {
     "data": {
      "text/plain": [
       "35.05393111079237"
      ]
     },
     "execution_count": 59,
     "metadata": {},
     "output_type": "execute_result"
    }
   ],
   "source": [
    "df3['temp'].mean()"
   ]
  },
  {
   "cell_type": "code",
   "execution_count": 60,
   "id": "8fed1142",
   "metadata": {},
   "outputs": [
    {
     "data": {
      "text/plain": [
       "Out    77261\n",
       "In     20345\n",
       "Name: out/in, dtype: int64"
      ]
     },
     "execution_count": 60,
     "metadata": {},
     "output_type": "execute_result"
    }
   ],
   "source": [
    "df3['out/in'].value_counts()"
   ]
  },
  {
   "cell_type": "code",
   "execution_count": 61,
   "id": "5e860902",
   "metadata": {},
   "outputs": [
    {
     "data": {
      "text/plain": [
       "52557    30-09-2018 17:29\n",
       "52563    30-09-2018 17:13\n",
       "Name: noted_date, dtype: object"
      ]
     },
     "execution_count": 61,
     "metadata": {},
     "output_type": "execute_result"
    }
   ],
   "source": [
    "df3[df3['temp']==(df3['temp'].max())]['noted_date']"
   ]
  },
  {
   "cell_type": "code",
   "execution_count": 62,
   "id": "fdb75f5f",
   "metadata": {},
   "outputs": [
    {
     "data": {
      "text/plain": [
       "5759    03-12-2018 11:02\n",
       "5760    03-12-2018 11:02\n",
       "Name: noted_date, dtype: object"
      ]
     },
     "execution_count": 62,
     "metadata": {},
     "output_type": "execute_result"
    }
   ],
   "source": [
    "df3[df3['temp']==(df3['temp'].min())]['noted_date']"
   ]
  },
  {
   "cell_type": "code",
   "execution_count": 63,
   "id": "b985dee0",
   "metadata": {},
   "outputs": [
    {
     "data": {
      "text/plain": [
       "350      08-12-2018 03:50\n",
       "351      08-12-2018 03:50\n",
       "374      08-12-2018 03:20\n",
       "375      08-12-2018 03:20\n",
       "392      08-12-2018 03:06\n",
       "               ...       \n",
       "72824    11-09-2018 08:25\n",
       "72830    11-09-2018 08:25\n",
       "72840    11-09-2018 08:23\n",
       "72857    11-09-2018 08:22\n",
       "97441    02-08-2018 06:43\n",
       "Name: noted_date, Length: 1582, dtype: object"
      ]
     },
     "execution_count": 63,
     "metadata": {},
     "output_type": "execute_result"
    }
   ],
   "source": [
    "df3[df3['temp']==(int(df3['temp'].mean()))]['noted_date']"
   ]
  },
  {
   "cell_type": "code",
   "execution_count": 64,
   "id": "337a5a80",
   "metadata": {},
   "outputs": [
    {
     "data": {
      "text/plain": [
       "1306     07-12-2018 14:11\n",
       "1307     07-12-2018 14:11\n",
       "1756     07-12-2018 06:02\n",
       "1757     07-12-2018 06:02\n",
       "1758     07-12-2018 06:00\n",
       "               ...       \n",
       "90334    06-09-2018 07:49\n",
       "90335    06-09-2018 07:48\n",
       "90339    06-09-2018 07:47\n",
       "90341    06-09-2018 07:47\n",
       "90346    06-09-2018 07:46\n",
       "Name: noted_date, Length: 224, dtype: object"
      ]
     },
     "execution_count": 64,
     "metadata": {},
     "output_type": "execute_result"
    }
   ],
   "source": [
    "df3[df3['temp']==25]['noted_date']"
   ]
  },
  {
   "cell_type": "code",
   "execution_count": 74,
   "id": "c90f3d12",
   "metadata": {},
   "outputs": [
    {
     "data": {
      "image/png": "[encoded data removed]",
      "text/plain": [
       "<Figure size 640x480 with 1 Axes>"
      ]
     },
     "metadata": {},
     "output_type": "display_data"
    }
   ],
   "source": [
    "plt.title('Temperature chart by Output and internal sensors')\n",
    "plt.scatter(df3['out/in'],df3['temp'])\n",
    "plt.xlabel('Output and internal sensors')\n",
    "plt.ylabel('Temperature')\n",
    "plt.savefig('Temperature chart by Output and internal sensors.png')\n",
    "plt.show()"
   ]
  },
  {
   "cell_type": "code",
   "execution_count": 66,
   "id": "d601e401",
   "metadata": {},
   "outputs": [
    {
     "name": "stdout",
     "output_type": "stream",
     "text": [
      "8\n"
     ]
    }
   ],
   "source": [
    "date = df['noted_date'][0]\n",
    "split_date = date.split('-')\n",
    "number = split_date[0]  # عدد 9 در این حالت\n",
    "print(number[1])"
   ]
  },
  {
   "cell_type": "code",
   "execution_count": 67,
   "id": "5b2b52fc",
   "metadata": {},
   "outputs": [],
   "source": [
    "m=[]\n",
    "for i in df['noted_date']:\n",
    "    split_date = i.split('-')\n",
    "    number = int(split_date[1])\n",
    "    m.append(number)\n",
    "    "
   ]
  },
  {
   "cell_type": "code",
   "execution_count": 68,
   "id": "dfd22092",
   "metadata": {},
   "outputs": [],
   "source": [
    "df3['Month']=m"
   ]
  },
  {
   "cell_type": "code",
   "execution_count": 69,
   "id": "4f70c447",
   "metadata": {},
   "outputs": [
    {
     "data": {
      "text/html": [
       "<div>\n",
       "<style scoped>\n",
       "    .dataframe tbody tr th:only-of-type {\n",
       "        vertical-align: middle;\n",
       "    }\n",
       "\n",
       "    .dataframe tbody tr th {\n",
       "        vertical-align: top;\n",
       "    }\n",
       "\n",
       "    .dataframe thead th {\n",
       "        text-align: right;\n",
       "    }\n",
       "</style>\n",
       "<table border=\"1\" class=\"dataframe\">\n",
       "  <thead>\n",
       "    <tr style=\"text-align: right;\">\n",
       "      <th></th>\n",
       "      <th>room_id/id</th>\n",
       "      <th>noted_date</th>\n",
       "      <th>temp</th>\n",
       "      <th>out/in</th>\n",
       "      <th>Month</th>\n",
       "    </tr>\n",
       "  </thead>\n",
       "  <tbody>\n",
       "    <tr>\n",
       "      <th>0</th>\n",
       "      <td>Room Admin</td>\n",
       "      <td>08-12-2018 09:30</td>\n",
       "      <td>29</td>\n",
       "      <td>In</td>\n",
       "      <td>12</td>\n",
       "    </tr>\n",
       "    <tr>\n",
       "      <th>1</th>\n",
       "      <td>Room Admin</td>\n",
       "      <td>08-12-2018 09:30</td>\n",
       "      <td>29</td>\n",
       "      <td>In</td>\n",
       "      <td>12</td>\n",
       "    </tr>\n",
       "    <tr>\n",
       "      <th>2</th>\n",
       "      <td>Room Admin</td>\n",
       "      <td>08-12-2018 09:29</td>\n",
       "      <td>41</td>\n",
       "      <td>Out</td>\n",
       "      <td>12</td>\n",
       "    </tr>\n",
       "    <tr>\n",
       "      <th>3</th>\n",
       "      <td>Room Admin</td>\n",
       "      <td>08-12-2018 09:29</td>\n",
       "      <td>41</td>\n",
       "      <td>Out</td>\n",
       "      <td>12</td>\n",
       "    </tr>\n",
       "    <tr>\n",
       "      <th>4</th>\n",
       "      <td>Room Admin</td>\n",
       "      <td>08-12-2018 09:29</td>\n",
       "      <td>31</td>\n",
       "      <td>In</td>\n",
       "      <td>12</td>\n",
       "    </tr>\n",
       "    <tr>\n",
       "      <th>...</th>\n",
       "      <td>...</td>\n",
       "      <td>...</td>\n",
       "      <td>...</td>\n",
       "      <td>...</td>\n",
       "      <td>...</td>\n",
       "    </tr>\n",
       "    <tr>\n",
       "      <th>97601</th>\n",
       "      <td>Room Admin</td>\n",
       "      <td>28-07-2018 07:07</td>\n",
       "      <td>31</td>\n",
       "      <td>In</td>\n",
       "      <td>7</td>\n",
       "    </tr>\n",
       "    <tr>\n",
       "      <th>97602</th>\n",
       "      <td>Room Admin</td>\n",
       "      <td>28-07-2018 07:07</td>\n",
       "      <td>31</td>\n",
       "      <td>In</td>\n",
       "      <td>7</td>\n",
       "    </tr>\n",
       "    <tr>\n",
       "      <th>97603</th>\n",
       "      <td>Room Admin</td>\n",
       "      <td>28-07-2018 07:06</td>\n",
       "      <td>31</td>\n",
       "      <td>In</td>\n",
       "      <td>7</td>\n",
       "    </tr>\n",
       "    <tr>\n",
       "      <th>97604</th>\n",
       "      <td>Room Admin</td>\n",
       "      <td>28-07-2018 07:06</td>\n",
       "      <td>31</td>\n",
       "      <td>In</td>\n",
       "      <td>7</td>\n",
       "    </tr>\n",
       "    <tr>\n",
       "      <th>97605</th>\n",
       "      <td>Room Admin</td>\n",
       "      <td>28-07-2018 07:06</td>\n",
       "      <td>31</td>\n",
       "      <td>In</td>\n",
       "      <td>7</td>\n",
       "    </tr>\n",
       "  </tbody>\n",
       "</table>\n",
       "<p>97606 rows × 5 columns</p>\n",
       "</div>"
      ],
      "text/plain": [
       "       room_id/id        noted_date  temp out/in  Month\n",
       "0      Room Admin  08-12-2018 09:30    29     In     12\n",
       "1      Room Admin  08-12-2018 09:30    29     In     12\n",
       "2      Room Admin  08-12-2018 09:29    41    Out     12\n",
       "3      Room Admin  08-12-2018 09:29    41    Out     12\n",
       "4      Room Admin  08-12-2018 09:29    31     In     12\n",
       "...           ...               ...   ...    ...    ...\n",
       "97601  Room Admin  28-07-2018 07:07    31     In      7\n",
       "97602  Room Admin  28-07-2018 07:07    31     In      7\n",
       "97603  Room Admin  28-07-2018 07:06    31     In      7\n",
       "97604  Room Admin  28-07-2018 07:06    31     In      7\n",
       "97605  Room Admin  28-07-2018 07:06    31     In      7\n",
       "\n",
       "[97606 rows x 5 columns]"
      ]
     },
     "execution_count": 69,
     "metadata": {},
     "output_type": "execute_result"
    }
   ],
   "source": [
    "df3"
   ]
  },
  {
   "cell_type": "code",
   "execution_count": 73,
   "id": "c9595530",
   "metadata": {},
   "outputs": [
    {
     "data": {
      "image/png": "[encoded data removed]",
      "text/plain": [
       "<Figure size 640x480 with 1 Axes>"
      ]
     },
     "metadata": {},
     "output_type": "display_data"
    }
   ],
   "source": [
    "plt.title('Temperature chart by number months')\n",
    "plt.scatter(df3['Month'],df3['temp'])\n",
    "plt.xlabel('Number Months')\n",
    "plt.ylabel('Temperature')\n",
    "# plt.savefig('Temperature chart by months comlete in.png')\n",
    "plt.show()"
   ]
  },
  {
   "cell_type": "code",
   "execution_count": 71,
   "id": "f824553b",
   "metadata": {},
   "outputs": [],
   "source": [
    "month = [\n",
    "    'January', 'February', 'March', 'April', 'May', 'June',\n",
    "    'July', 'August', 'September', 'October', 'November', 'December'\n",
    "]\n"
   ]
  },
  {
   "cell_type": "code",
   "execution_count": 72,
   "id": "d07bd88a",
   "metadata": {},
   "outputs": [],
   "source": [
    "months=[]\n",
    "for i in m:\n",
    "    months.append(month[i-1])\n"
   ]
  },
  {
   "cell_type": "code",
   "execution_count": 29,
   "id": "aa598de9",
   "metadata": {},
   "outputs": [],
   "source": [
    "df3['name_months']=months"
   ]
  },
  {
   "cell_type": "code",
   "execution_count": 46,
   "id": "cb4ac5ec",
   "metadata": {},
   "outputs": [
    {
     "data": {
      "image/png": "[encoded data removed]",
      "text/plain": [
       "<Figure size 640x480 with 1 Axes>"
      ]
     },
     "metadata": {},
     "output_type": "display_data"
    }
   ],
   "source": [
    "plt.title('Temperature chart by months')\n",
    "plt.scatter(df3['name_months'],df3['temp'])\n",
    "plt.xlabel('Months')\n",
    "plt.ylabel('Temperature')\n",
    "plt.savefig('Temperature chart by months comlete in.png')\n",
    "plt.show()"
   ]
  },
  {
   "cell_type": "code",
   "execution_count": 31,
   "id": "49903f09",
   "metadata": {},
   "outputs": [
    {
     "data": {
      "text/plain": [
       "0        December\n",
       "1        December\n",
       "4        December\n",
       "5        December\n",
       "6        December\n",
       "           ...   \n",
       "97601        July\n",
       "97602        July\n",
       "97603        July\n",
       "97604        July\n",
       "97605        July\n",
       "Name: name_months, Length: 20345, dtype: object"
      ]
     },
     "execution_count": 31,
     "metadata": {},
     "output_type": "execute_result"
    }
   ],
   "source": [
    "df3[df3['out/in']=='In']['name_months']"
   ]
  },
  {
   "cell_type": "code",
   "execution_count": 32,
   "id": "e407b84f",
   "metadata": {},
   "outputs": [
    {
     "data": {
      "text/plain": [
       "0        29\n",
       "1        29\n",
       "4        31\n",
       "5        31\n",
       "6        29\n",
       "         ..\n",
       "97601    31\n",
       "97602    31\n",
       "97603    31\n",
       "97604    31\n",
       "97605    31\n",
       "Name: temp, Length: 20345, dtype: int32"
      ]
     },
     "execution_count": 32,
     "metadata": {},
     "output_type": "execute_result"
    }
   ],
   "source": [
    "df3[df3['out/in']=='In']['temp']"
   ]
  },
  {
   "cell_type": "code",
   "execution_count": 75,
   "id": "fa2407cd",
   "metadata": {},
   "outputs": [
    {
     "data": {
      "text/plain": [
       "32    3588\n",
       "29    3498\n",
       "31    3147\n",
       "30    2657\n",
       "28    2106\n",
       "33    1733\n",
       "27    1152\n",
       "34    1119\n",
       "35     620\n",
       "26     378\n",
       "25     198\n",
       "24      62\n",
       "36      57\n",
       "22      19\n",
       "23       5\n",
       "21       2\n",
       "40       2\n",
       "39       1\n",
       "41       1\n",
       "Name: temp, dtype: int64"
      ]
     },
     "execution_count": 75,
     "metadata": {},
     "output_type": "execute_result"
    }
   ],
   "source": [
    "df3[df3['out/in']=='In']['temp'].value_counts()"
   ]
  },
  {
   "cell_type": "code",
   "execution_count": 76,
   "id": "6a9b3eeb",
   "metadata": {},
   "outputs": [
    {
     "data": {
      "text/plain": [
       "2        41\n",
       "3        41\n",
       "10       42\n",
       "11       42\n",
       "16       41\n",
       "         ..\n",
       "97587    32\n",
       "97588    32\n",
       "97594    32\n",
       "97596    32\n",
       "97599    32\n",
       "Name: temp, Length: 77261, dtype: int32"
      ]
     },
     "execution_count": 76,
     "metadata": {},
     "output_type": "execute_result"
    }
   ],
   "source": [
    "df3[df3['out/in']=='Out']['temp']"
   ]
  },
  {
   "cell_type": "code",
   "execution_count": 77,
   "id": "d1d337b0",
   "metadata": {},
   "outputs": [
    {
     "data": {
      "text/plain": [
       "39    10202\n",
       "40     7796\n",
       "28     6725\n",
       "37     5723\n",
       "29     4424\n",
       "41     4353\n",
       "31     4089\n",
       "30     3957\n",
       "36     3908\n",
       "38     3867\n",
       "27     3479\n",
       "42     3447\n",
       "43     2004\n",
       "32     1820\n",
       "44     1774\n",
       "33     1704\n",
       "45     1508\n",
       "34     1494\n",
       "46     1201\n",
       "47     1044\n",
       "48      971\n",
       "35      962\n",
       "49      401\n",
       "26      321\n",
       "50       55\n",
       "25       26\n",
       "24        4\n",
       "51        2\n",
       "Name: temp, dtype: int64"
      ]
     },
     "execution_count": 77,
     "metadata": {},
     "output_type": "execute_result"
    }
   ],
   "source": [
    "df3[df3['out/in']=='Out']['temp'].value_counts()"
   ]
  },
  {
   "cell_type": "code",
   "execution_count": 45,
   "id": "ae5528e1",
   "metadata": {},
   "outputs": [
    {
     "data": {
      "image/png": "[encoded data removed]",
      "text/plain": [
       "<Figure size 640x480 with 1 Axes>"
      ]
     },
     "metadata": {},
     "output_type": "display_data"
    }
   ],
   "source": [
    "plt.title('Temperature chart by months')\n",
    "plt.scatter(df3[df3['out/in']=='In']['name_months'],df3[df3['out/in']=='In']['temp'])\n",
    "plt.xlabel('Months')\n",
    "plt.ylabel('Temperature')\n",
    "plt.savefig('Temperature chart by months in.png')\n",
    "plt.show()\n"
   ]
  },
  {
   "cell_type": "code",
   "execution_count": 44,
   "id": "3904528d",
   "metadata": {},
   "outputs": [
    {
     "data": {
      "image/png": "[encoded data removed]",
      "text/plain": [
       "<Figure size 640x480 with 1 Axes>"
      ]
     },
     "metadata": {},
     "output_type": "display_data"
    }
   ],
   "source": [
    "plt.title('Temperature chart by months')\n",
    "plt.scatter(df3[df3['out/in']=='Out']['name_months'],df3[df3['out/in']=='Out']['temp'])\n",
    "plt.xlabel('Months')\n",
    "plt.ylabel('Temperature')\n",
    "plt.savefig('Temperature chart by months out.png')\n",
    "plt.show()"
   ]
  },
  {
   "cell_type": "code",
   "execution_count": 35,
   "id": "84741079",
   "metadata": {},
   "outputs": [],
   "source": [
    "d=[]\n",
    "m=[]\n",
    "y=[]\n",
    "for i in df['noted_date']:\n",
    "    split_date = i.split('-')\n",
    "    day = int(split_date[0])\n",
    "    month = int(split_date[1])\n",
    "    year = split_date[2].split(' ')\n",
    "    f=int(year[0])\n",
    "    d.append(day)\n",
    "    m.append(month)\n",
    "    y.append(f)"
   ]
  },
  {
   "cell_type": "code",
   "execution_count": 36,
   "id": "4f5f2b78",
   "metadata": {},
   "outputs": [
    {
     "data": {
      "text/plain": [
       "int"
      ]
     },
     "execution_count": 36,
     "metadata": {},
     "output_type": "execute_result"
    }
   ],
   "source": [
    "type(m[0])"
   ]
  },
  {
   "cell_type": "code",
   "execution_count": 37,
   "id": "de9e5a92",
   "metadata": {
    "scrolled": true
   },
   "outputs": [],
   "source": [
    "date=[]\n",
    "for year, month, day in zip(y, m, d):\n",
    "    formatted_date = f'{year:04d}-{month:02d}-{day:02d}'\n",
    "    date.append(formatted_date)"
   ]
  },
  {
   "cell_type": "code",
   "execution_count": 38,
   "id": "3e0d023d",
   "metadata": {},
   "outputs": [],
   "source": [
    "df3['date']=date"
   ]
  },
  {
   "cell_type": "code",
   "execution_count": 39,
   "id": "4deba87b",
   "metadata": {},
   "outputs": [
    {
     "data": {
      "text/html": [
       "<div>\n",
       "<style scoped>\n",
       "    .dataframe tbody tr th:only-of-type {\n",
       "        vertical-align: middle;\n",
       "    }\n",
       "\n",
       "    .dataframe tbody tr th {\n",
       "        vertical-align: top;\n",
       "    }\n",
       "\n",
       "    .dataframe thead th {\n",
       "        text-align: right;\n",
       "    }\n",
       "</style>\n",
       "<table border=\"1\" class=\"dataframe\">\n",
       "  <thead>\n",
       "    <tr style=\"text-align: right;\">\n",
       "      <th></th>\n",
       "      <th>room_id/id</th>\n",
       "      <th>noted_date</th>\n",
       "      <th>temp</th>\n",
       "      <th>out/in</th>\n",
       "      <th>Month</th>\n",
       "      <th>name_months</th>\n",
       "      <th>date</th>\n",
       "    </tr>\n",
       "  </thead>\n",
       "  <tbody>\n",
       "    <tr>\n",
       "      <th>0</th>\n",
       "      <td>Room Admin</td>\n",
       "      <td>08-12-2018 09:30</td>\n",
       "      <td>29</td>\n",
       "      <td>In</td>\n",
       "      <td>12</td>\n",
       "      <td>December</td>\n",
       "      <td>2018-12-08</td>\n",
       "    </tr>\n",
       "    <tr>\n",
       "      <th>1</th>\n",
       "      <td>Room Admin</td>\n",
       "      <td>08-12-2018 09:30</td>\n",
       "      <td>29</td>\n",
       "      <td>In</td>\n",
       "      <td>12</td>\n",
       "      <td>December</td>\n",
       "      <td>2018-12-08</td>\n",
       "    </tr>\n",
       "    <tr>\n",
       "      <th>2</th>\n",
       "      <td>Room Admin</td>\n",
       "      <td>08-12-2018 09:29</td>\n",
       "      <td>41</td>\n",
       "      <td>Out</td>\n",
       "      <td>12</td>\n",
       "      <td>December</td>\n",
       "      <td>2018-12-08</td>\n",
       "    </tr>\n",
       "    <tr>\n",
       "      <th>3</th>\n",
       "      <td>Room Admin</td>\n",
       "      <td>08-12-2018 09:29</td>\n",
       "      <td>41</td>\n",
       "      <td>Out</td>\n",
       "      <td>12</td>\n",
       "      <td>December</td>\n",
       "      <td>2018-12-08</td>\n",
       "    </tr>\n",
       "    <tr>\n",
       "      <th>4</th>\n",
       "      <td>Room Admin</td>\n",
       "      <td>08-12-2018 09:29</td>\n",
       "      <td>31</td>\n",
       "      <td>In</td>\n",
       "      <td>12</td>\n",
       "      <td>December</td>\n",
       "      <td>2018-12-08</td>\n",
       "    </tr>\n",
       "    <tr>\n",
       "      <th>...</th>\n",
       "      <td>...</td>\n",
       "      <td>...</td>\n",
       "      <td>...</td>\n",
       "      <td>...</td>\n",
       "      <td>...</td>\n",
       "      <td>...</td>\n",
       "      <td>...</td>\n",
       "    </tr>\n",
       "    <tr>\n",
       "      <th>97601</th>\n",
       "      <td>Room Admin</td>\n",
       "      <td>28-07-2018 07:07</td>\n",
       "      <td>31</td>\n",
       "      <td>In</td>\n",
       "      <td>7</td>\n",
       "      <td>July</td>\n",
       "      <td>2018-07-28</td>\n",
       "    </tr>\n",
       "    <tr>\n",
       "      <th>97602</th>\n",
       "      <td>Room Admin</td>\n",
       "      <td>28-07-2018 07:07</td>\n",
       "      <td>31</td>\n",
       "      <td>In</td>\n",
       "      <td>7</td>\n",
       "      <td>July</td>\n",
       "      <td>2018-07-28</td>\n",
       "    </tr>\n",
       "    <tr>\n",
       "      <th>97603</th>\n",
       "      <td>Room Admin</td>\n",
       "      <td>28-07-2018 07:06</td>\n",
       "      <td>31</td>\n",
       "      <td>In</td>\n",
       "      <td>7</td>\n",
       "      <td>July</td>\n",
       "      <td>2018-07-28</td>\n",
       "    </tr>\n",
       "    <tr>\n",
       "      <th>97604</th>\n",
       "      <td>Room Admin</td>\n",
       "      <td>28-07-2018 07:06</td>\n",
       "      <td>31</td>\n",
       "      <td>In</td>\n",
       "      <td>7</td>\n",
       "      <td>July</td>\n",
       "      <td>2018-07-28</td>\n",
       "    </tr>\n",
       "    <tr>\n",
       "      <th>97605</th>\n",
       "      <td>Room Admin</td>\n",
       "      <td>28-07-2018 07:06</td>\n",
       "      <td>31</td>\n",
       "      <td>In</td>\n",
       "      <td>7</td>\n",
       "      <td>July</td>\n",
       "      <td>2018-07-28</td>\n",
       "    </tr>\n",
       "  </tbody>\n",
       "</table>\n",
       "<p>97606 rows × 7 columns</p>\n",
       "</div>"
      ],
      "text/plain": [
       "       room_id/id        noted_date  temp out/in  Month name_months  \\\n",
       "0      Room Admin  08-12-2018 09:30    29     In     12    December   \n",
       "1      Room Admin  08-12-2018 09:30    29     In     12    December   \n",
       "2      Room Admin  08-12-2018 09:29    41    Out     12    December   \n",
       "3      Room Admin  08-12-2018 09:29    41    Out     12    December   \n",
       "4      Room Admin  08-12-2018 09:29    31     In     12    December   \n",
       "...           ...               ...   ...    ...    ...         ...   \n",
       "97601  Room Admin  28-07-2018 07:07    31     In      7        July   \n",
       "97602  Room Admin  28-07-2018 07:07    31     In      7        July   \n",
       "97603  Room Admin  28-07-2018 07:06    31     In      7        July   \n",
       "97604  Room Admin  28-07-2018 07:06    31     In      7        July   \n",
       "97605  Room Admin  28-07-2018 07:06    31     In      7        July   \n",
       "\n",
       "             date  \n",
       "0      2018-12-08  \n",
       "1      2018-12-08  \n",
       "2      2018-12-08  \n",
       "3      2018-12-08  \n",
       "4      2018-12-08  \n",
       "...           ...  \n",
       "97601  2018-07-28  \n",
       "97602  2018-07-28  \n",
       "97603  2018-07-28  \n",
       "97604  2018-07-28  \n",
       "97605  2018-07-28  \n",
       "\n",
       "[97606 rows x 7 columns]"
      ]
     },
     "execution_count": 39,
     "metadata": {},
     "output_type": "execute_result"
    }
   ],
   "source": [
    "df3"
   ]
  },
  {
   "cell_type": "code",
   "execution_count": 41,
   "id": "54b938ad",
   "metadata": {},
   "outputs": [
    {
     "data": {
      "image/png": "[encoded data removed]",
      "text/plain": [
       "<Figure size 640x480 with 1 Axes>"
      ]
     },
     "metadata": {},
     "output_type": "display_data"
    }
   ],
   "source": [
    "plt.title('Temperature chart by date')\n",
    "plt.scatter(df3['date'],df3['temp'])\n",
    "plt.xlabel('Date')\n",
    "plt.ylabel('Temperature')\n",
    "plt.savefig('Temperature chart by date.png')\n",
    "plt.show()\n"
   ]
  }
 ],
 "metadata": {
  "kernelspec": {
   "display_name": "Python 3 (ipykernel)",
   "language": "python",
   "name": "python3"
  },
  "language_info": {
   "codemirror_mode": {
    "name": "ipython",
    "version": 3
   },
   "file_extension": ".py",
   "mimetype": "text/x-python",
   "name": "python",
   "nbconvert_exporter": "python",
   "pygments_lexer": "ipython3",
   "version": "3.10.9"
  }
 },
 "nbformat": 4,
 "nbformat_minor": 5
}
